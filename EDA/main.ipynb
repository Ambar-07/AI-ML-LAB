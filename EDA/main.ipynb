{
 "cells": [
  {
   "cell_type": "markdown",
   "metadata": {},
   "source": [
    "importing libraries"
   ]
  },
  {
   "cell_type": "code",
   "execution_count": 1,
   "metadata": {
    "vscode": {
     "languageId": "markdown"
    }
   },
   "outputs": [],
   "source": [
    "import pandas as pd \n",
    "import numpy as np \n",
    "import matplotlib.pyplot as plt"
   ]
  },
  {
   "cell_type": "markdown",
   "metadata": {},
   "source": [
    "loading the dataset"
   ]
  },
  {
   "cell_type": "code",
   "execution_count": 2,
   "metadata": {
    "vscode": {
     "languageId": "markdown"
    }
   },
   "outputs": [],
   "source": [
    "df=pd.read_csv('sample_dataset.csv')"
   ]
  },
  {
   "cell_type": "markdown",
   "metadata": {},
   "source": [
    "Number of row and column in this dataset"
   ]
  },
  {
   "cell_type": "code",
   "execution_count": 3,
   "metadata": {
    "vscode": {
     "languageId": "markdown"
    }
   },
   "outputs": [
    {
     "data": {
      "text/plain": [
       "(569, 31)"
      ]
     },
     "execution_count": 3,
     "metadata": {},
     "output_type": "execute_result"
    }
   ],
   "source": [
    "df.shape"
   ]
  },
  {
   "cell_type": "markdown",
   "metadata": {},
   "source": [
    "Information of this dataset"
   ]
  },
  {
   "cell_type": "code",
   "execution_count": 4,
   "metadata": {
    "vscode": {
     "languageId": "markdown"
    }
   },
   "outputs": [
    {
     "name": "stdout",
     "output_type": "stream",
     "text": [
      "<class 'pandas.core.frame.DataFrame'>\n",
      "RangeIndex: 569 entries, 0 to 568\n",
      "Data columns (total 31 columns):\n",
      " #   Column                   Non-Null Count  Dtype  \n",
      "---  ------                   --------------  -----  \n",
      " 0   mean radius              482 non-null    float64\n",
      " 1   mean texture             492 non-null    float64\n",
      " 2   mean perimeter           513 non-null    float64\n",
      " 3   mean area                403 non-null    float64\n",
      " 4   mean smoothness          384 non-null    float64\n",
      " 5   mean compactness         480 non-null    float64\n",
      " 6   mean concavity           439 non-null    float64\n",
      " 7   mean concave points      382 non-null    float64\n",
      " 8   mean symmetry            471 non-null    float64\n",
      " 9   mean fractal dimension   504 non-null    float64\n",
      " 10  radius error             475 non-null    float64\n",
      " 11  texture error            434 non-null    float64\n",
      " 12  perimeter error          381 non-null    float64\n",
      " 13  area error               494 non-null    object \n",
      " 14  smoothness error         492 non-null    float64\n",
      " 15  compactness error        456 non-null    float64\n",
      " 16  concavity error          379 non-null    float64\n",
      " 17  concave points error     507 non-null    float64\n",
      " 18  symmetry error           487 non-null    float64\n",
      " 19  fractal dimension error  412 non-null    float64\n",
      " 20  worst radius             475 non-null    float64\n",
      " 21  worst texture            414 non-null    float64\n",
      " 22  worst perimeter          460 non-null    float64\n",
      " 23  worst area               512 non-null    float64\n",
      " 24  worst smoothness         468 non-null    float64\n",
      " 25  worst compactness        474 non-null    float64\n",
      " 26  worst concavity          507 non-null    float64\n",
      " 27  worst concave points     495 non-null    float64\n",
      " 28  worst symmetry           410 non-null    float64\n",
      " 29  worst fractal dimension  470 non-null    float64\n",
      " 30  target                   569 non-null    int64  \n",
      "dtypes: float64(29), int64(1), object(1)\n",
      "memory usage: 137.9+ KB\n"
     ]
    }
   ],
   "source": [
    "df.info()"
   ]
  },
  {
   "cell_type": "markdown",
   "metadata": {},
   "source": [
    "Datatypes in this Dataset"
   ]
  },
  {
   "cell_type": "code",
   "execution_count": 7,
   "metadata": {
    "vscode": {
     "languageId": "markdown"
    }
   },
   "outputs": [
    {
     "data": {
      "text/plain": [
       "mean radius                float64\n",
       "mean texture               float64\n",
       "mean perimeter             float64\n",
       "mean area                  float64\n",
       "mean smoothness            float64\n",
       "mean compactness           float64\n",
       "mean concavity             float64\n",
       "mean concave points        float64\n",
       "mean symmetry              float64\n",
       "mean fractal dimension     float64\n",
       "radius error               float64\n",
       "texture error              float64\n",
       "perimeter error            float64\n",
       "area error                  object\n",
       "smoothness error           float64\n",
       "compactness error          float64\n",
       "concavity error            float64\n",
       "concave points error       float64\n",
       "symmetry error             float64\n",
       "fractal dimension error    float64\n",
       "worst radius               float64\n",
       "worst texture              float64\n",
       "worst perimeter            float64\n",
       "worst area                 float64\n",
       "worst smoothness           float64\n",
       "worst compactness          float64\n",
       "worst concavity            float64\n",
       "worst concave points       float64\n",
       "worst symmetry             float64\n",
       "worst fractal dimension    float64\n",
       "target                       int64\n",
       "dtype: object"
      ]
     },
     "execution_count": 7,
     "metadata": {},
     "output_type": "execute_result"
    }
   ],
   "source": [
    "df.dtypes"
   ]
  },
  {
   "cell_type": "code",
   "execution_count": 9,
   "metadata": {
    "vscode": {
     "languageId": "markdown"
    }
   },
   "outputs": [
    {
     "data": {
      "text/plain": [
       "0        A\n",
       "1        A\n",
       "2        A\n",
       "3        A\n",
       "4      NaN\n",
       "      ... \n",
       "564      A\n",
       "565      A\n",
       "566      A\n",
       "567      A\n",
       "568      A\n",
       "Name: area error, Length: 569, dtype: object"
      ]
     },
     "execution_count": 9,
     "metadata": {},
     "output_type": "execute_result"
    }
   ],
   "source": [
    "df['area error']"
   ]
  },
  {
   "cell_type": "code",
   "execution_count": 15,
   "metadata": {
    "vscode": {
     "languageId": "markdown"
    }
   },
   "outputs": [
    {
     "data": {
      "text/plain": [
       "<bound method DataFrame.nunique of      mean radius  mean texture  mean perimeter  mean area  mean smoothness  \\\n",
       "0            NaN         10.38          122.80     1001.0          0.11840   \n",
       "1          20.57         17.77          132.90     1326.0              NaN   \n",
       "2          19.69         21.25          130.00     1203.0          0.10960   \n",
       "3          11.42         20.38           77.58      386.1          0.14250   \n",
       "4          20.29         14.34             NaN        NaN              NaN   \n",
       "..           ...           ...             ...        ...              ...   \n",
       "564        21.56         22.39          142.00     1479.0          0.11100   \n",
       "565          NaN         28.25          131.20     1261.0          0.09780   \n",
       "566        16.60         28.08          108.30        NaN          0.08455   \n",
       "567        20.60         29.33          140.10     1265.0          0.11780   \n",
       "568         7.76           NaN           47.92      181.0          0.05263   \n",
       "\n",
       "     mean compactness  mean concavity  mean concave points  mean symmetry  \\\n",
       "0             0.27760          0.3001              0.14710         0.2419   \n",
       "1                 NaN          0.0869              0.07017            NaN   \n",
       "2             0.15990             NaN                  NaN            NaN   \n",
       "3             0.28390          0.2414                  NaN         0.2597   \n",
       "4             0.13280          0.1980                  NaN         0.1809   \n",
       "..                ...             ...                  ...            ...   \n",
       "564               NaN          0.2439              0.13890         0.1726   \n",
       "565           0.10340          0.1440              0.09791         0.1752   \n",
       "566           0.10230             NaN              0.05302         0.1590   \n",
       "567           0.27700          0.3514              0.15200         0.2397   \n",
       "568           0.04362          0.0000              0.00000         0.1587   \n",
       "\n",
       "     mean fractal dimension  ...  worst texture  worst perimeter  worst area  \\\n",
       "0                   0.07871  ...          17.33              NaN      2019.0   \n",
       "1                   0.05667  ...          23.41           158.80      1956.0   \n",
       "2                   0.05999  ...          25.53              NaN      1709.0   \n",
       "3                   0.09744  ...          26.50              NaN       567.7   \n",
       "4                       NaN  ...          16.67           152.20      1575.0   \n",
       "..                      ...  ...            ...              ...         ...   \n",
       "564                 0.05623  ...          26.40           166.10      2027.0   \n",
       "565                     NaN  ...          38.25           155.00      1731.0   \n",
       "566                 0.05648  ...          34.12           126.70      1124.0   \n",
       "567                     NaN  ...            NaN           184.60      1821.0   \n",
       "568                 0.05884  ...          30.37            59.16         NaN   \n",
       "\n",
       "    worst smoothness  worst compactness  worst concavity  \\\n",
       "0            0.16220             0.6656           0.7119   \n",
       "1            0.12380             0.1866           0.2416   \n",
       "2            0.14440             0.4245           0.4504   \n",
       "3            0.20980             0.8663           0.6869   \n",
       "4            0.13740                NaN           0.4000   \n",
       "..               ...                ...              ...   \n",
       "564          0.14100             0.2113           0.4107   \n",
       "565          0.11660             0.1922           0.3215   \n",
       "566          0.11390                NaN           0.3403   \n",
       "567          0.16500             0.8681           0.9387   \n",
       "568          0.08996                NaN           0.0000   \n",
       "\n",
       "     worst concave points  worst symmetry  worst fractal dimension  target  \n",
       "0                  0.2654          0.4601                  0.11890       0  \n",
       "1                  0.1860          0.2750                      NaN       0  \n",
       "2                  0.2430          0.3613                  0.08758       0  \n",
       "3                  0.2575          0.6638                  0.17300       0  \n",
       "4                  0.1625          0.2364                  0.07678       0  \n",
       "..                    ...             ...                      ...     ...  \n",
       "564                0.2216          0.2060                  0.07115       0  \n",
       "565                0.1628          0.2572                      NaN       0  \n",
       "566                0.1418          0.2218                  0.07820       0  \n",
       "567                0.2650          0.4087                  0.12400       0  \n",
       "568                0.0000          0.2871                  0.07039       1  \n",
       "\n",
       "[569 rows x 31 columns]>"
      ]
     },
     "execution_count": 15,
     "metadata": {},
     "output_type": "execute_result"
    }
   ],
   "source": [
    "df.nunique"
   ]
  },
  {
   "cell_type": "code",
   "execution_count": 25,
   "metadata": {
    "vscode": {
     "languageId": "markdown"
    }
   },
   "outputs": [
    {
     "name": "stdout",
     "output_type": "stream",
     "text": [
      "Number of unique values in this column are : 459\n"
     ]
    }
   ],
   "source": [
    "unique = df['mean compactness'].nunique()\n",
    "print(\"Number of unique values in this column are :\", unique)"
   ]
  },
  {
   "cell_type": "code",
   "execution_count": 28,
   "metadata": {
    "vscode": {
     "languageId": "markdown"
    }
   },
   "outputs": [
    {
     "data": {
      "text/plain": [
       "<bound method DataFrame.info of      mean radius  mean texture  mean perimeter  mean area  mean smoothness  \\\n",
       "0            NaN         10.38          122.80     1001.0          0.11840   \n",
       "1          20.57         17.77          132.90     1326.0              NaN   \n",
       "2          19.69         21.25          130.00     1203.0          0.10960   \n",
       "3          11.42         20.38           77.58      386.1          0.14250   \n",
       "4          20.29         14.34             NaN        NaN              NaN   \n",
       "..           ...           ...             ...        ...              ...   \n",
       "564        21.56         22.39          142.00     1479.0          0.11100   \n",
       "565          NaN         28.25          131.20     1261.0          0.09780   \n",
       "566        16.60         28.08          108.30        NaN          0.08455   \n",
       "567        20.60         29.33          140.10     1265.0          0.11780   \n",
       "568         7.76           NaN           47.92      181.0          0.05263   \n",
       "\n",
       "     mean compactness  mean concavity  mean concave points  mean symmetry  \\\n",
       "0             0.27760          0.3001              0.14710         0.2419   \n",
       "1                 NaN          0.0869              0.07017            NaN   \n",
       "2             0.15990             NaN                  NaN            NaN   \n",
       "3             0.28390          0.2414                  NaN         0.2597   \n",
       "4             0.13280          0.1980                  NaN         0.1809   \n",
       "..                ...             ...                  ...            ...   \n",
       "564               NaN          0.2439              0.13890         0.1726   \n",
       "565           0.10340          0.1440              0.09791         0.1752   \n",
       "566           0.10230             NaN              0.05302         0.1590   \n",
       "567           0.27700          0.3514              0.15200         0.2397   \n",
       "568           0.04362          0.0000              0.00000         0.1587   \n",
       "\n",
       "     mean fractal dimension  ...  worst texture  worst perimeter  worst area  \\\n",
       "0                   0.07871  ...          17.33              NaN      2019.0   \n",
       "1                   0.05667  ...          23.41           158.80      1956.0   \n",
       "2                   0.05999  ...          25.53              NaN      1709.0   \n",
       "3                   0.09744  ...          26.50              NaN       567.7   \n",
       "4                       NaN  ...          16.67           152.20      1575.0   \n",
       "..                      ...  ...            ...              ...         ...   \n",
       "564                 0.05623  ...          26.40           166.10      2027.0   \n",
       "565                     NaN  ...          38.25           155.00      1731.0   \n",
       "566                 0.05648  ...          34.12           126.70      1124.0   \n",
       "567                     NaN  ...            NaN           184.60      1821.0   \n",
       "568                 0.05884  ...          30.37            59.16         NaN   \n",
       "\n",
       "    worst smoothness  worst compactness  worst concavity  \\\n",
       "0            0.16220             0.6656           0.7119   \n",
       "1            0.12380             0.1866           0.2416   \n",
       "2            0.14440             0.4245           0.4504   \n",
       "3            0.20980             0.8663           0.6869   \n",
       "4            0.13740                NaN           0.4000   \n",
       "..               ...                ...              ...   \n",
       "564          0.14100             0.2113           0.4107   \n",
       "565          0.11660             0.1922           0.3215   \n",
       "566          0.11390                NaN           0.3403   \n",
       "567          0.16500             0.8681           0.9387   \n",
       "568          0.08996                NaN           0.0000   \n",
       "\n",
       "     worst concave points  worst symmetry  worst fractal dimension  target  \n",
       "0                  0.2654          0.4601                  0.11890       0  \n",
       "1                  0.1860          0.2750                      NaN       0  \n",
       "2                  0.2430          0.3613                  0.08758       0  \n",
       "3                  0.2575          0.6638                  0.17300       0  \n",
       "4                  0.1625          0.2364                  0.07678       0  \n",
       "..                    ...             ...                      ...     ...  \n",
       "564                0.2216          0.2060                  0.07115       0  \n",
       "565                0.1628          0.2572                      NaN       0  \n",
       "566                0.1418          0.2218                  0.07820       0  \n",
       "567                0.2650          0.4087                  0.12400       0  \n",
       "568                0.0000          0.2871                  0.07039       1  \n",
       "\n",
       "[569 rows x 31 columns]>"
      ]
     },
     "execution_count": 28,
     "metadata": {},
     "output_type": "execute_result"
    }
   ],
   "source": [
    "df.info"
   ]
  },
  {
   "cell_type": "code",
   "execution_count": 39,
   "metadata": {
    "vscode": {
     "languageId": "markdown"
    }
   },
   "outputs": [
    {
     "name": "stdout",
     "output_type": "stream",
     "text": [
      "the number of nan in this dataset are : 3318\n"
     ]
    }
   ],
   "source": [
    "null = df.isna().sum().sum()\n",
    "print(\"the number of nan in this dataset are :\" , null)"
   ]
  },
  {
   "cell_type": "code",
   "execution_count": 69,
   "metadata": {
    "vscode": {
     "languageId": "markdown"
    }
   },
   "outputs": [
    {
     "name": "stdout",
     "output_type": "stream",
     "text": [
      "the percentage of nan in every column are as follow :\n",
      "  Axes(0.125,0.11;0.775x0.77)\n"
     ]
    },
    {
     "data": {
      "image/png": "[encoded data removed]",
      "text/plain": [
       "<Figure size 640x480 with 1 Axes>"
      ]
     },
     "metadata": {},
     "output_type": "display_data"
    }
   ],
   "source": [
    "percentage=df.isna().mean()*100\n",
    "percentage_sort= percentage.sort_values().plot(kind='bar', color='black')\n",
    "print(\"the percentage of nan in every column are as follow :\\n \" , percentage_sort)"
   ]
  }
 ],
 "metadata": {
  "kernelspec": {
   "display_name": "Python 3",
   "language": "python",
   "name": "python3"
  },
  "language_info": {
   "codemirror_mode": {
    "name": "ipython",
    "version": 3
   },
   "file_extension": ".py",
   "mimetype": "text/x-python",
   "name": "python",
   "nbconvert_exporter": "python",
   "pygments_lexer": "ipython3",
   "version": "3.12.5"
  }
 },
 "nbformat": 4,
 "nbformat_minor": 2
}
