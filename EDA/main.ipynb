{
 "cells": [
  {
   "cell_type": "markdown",
   "metadata": {},
   "source": [
    "importing libraries"
   ]
  },
  {
   "cell_type": "code",
   "execution_count": 27,
   "metadata": {
    "vscode": {
     "languageId": "markdown"
    }
   },
   "outputs": [],
   "source": [
    "import pandas as pd \n",
    "import numpy as np \n",
    "import matplotlib.pyplot as plt\n",
    "import seaborn as sb"
   ]
  },
  {
   "cell_type": "markdown",
   "metadata": {},
   "source": [
    "loading the dataset"
   ]
  },
  {
   "cell_type": "code",
   "execution_count": 28,
   "metadata": {
    "vscode": {
     "languageId": "markdown"
    }
   },
   "outputs": [],
   "source": [
    "df=pd.read_csv('sample_dataset.csv')"
   ]
  },
  {
   "cell_type": "markdown",
   "metadata": {},
   "source": [
    "Number of row and column in this dataset"
   ]
  },
  {
   "cell_type": "code",
   "execution_count": 29,
   "metadata": {
    "vscode": {
     "languageId": "markdown"
    }
   },
   "outputs": [
    {
     "data": {
      "text/plain": [
       "(569, 31)"
      ]
     },
     "execution_count": 29,
     "metadata": {},
     "output_type": "execute_result"
    }
   ],
   "source": [
    "df.shape"
   ]
  },
  {
   "cell_type": "markdown",
   "metadata": {},
   "source": [
    "Information of this dataset"
   ]
  },
  {
   "cell_type": "code",
   "execution_count": 30,
   "metadata": {
    "vscode": {
     "languageId": "markdown"
    }
   },
   "outputs": [
    {
     "name": "stdout",
     "output_type": "stream",
     "text": [
      "<class 'pandas.core.frame.DataFrame'>\n",
      "RangeIndex: 569 entries, 0 to 568\n",
      "Data columns (total 31 columns):\n",
      " #   Column                   Non-Null Count  Dtype  \n",
      "---  ------                   --------------  -----  \n",
      " 0   mean radius              482 non-null    float64\n",
      " 1   mean texture             492 non-null    float64\n",
      " 2   mean perimeter           513 non-null    float64\n",
      " 3   mean area                403 non-null    float64\n",
      " 4   mean smoothness          384 non-null    float64\n",
      " 5   mean compactness         480 non-null    float64\n",
      " 6   mean concavity           439 non-null    float64\n",
      " 7   mean concave points      382 non-null    float64\n",
      " 8   mean symmetry            471 non-null    float64\n",
      " 9   mean fractal dimension   504 non-null    float64\n",
      " 10  radius error             475 non-null    float64\n",
      " 11  texture error            434 non-null    float64\n",
      " 12  perimeter error          381 non-null    float64\n",
      " 13  area error               494 non-null    object \n",
      " 14  smoothness error         492 non-null    float64\n",
      " 15  compactness error        456 non-null    float64\n",
      " 16  concavity error          379 non-null    float64\n",
      " 17  concave points error     507 non-null    float64\n",
      " 18  symmetry error           487 non-null    float64\n",
      " 19  fractal dimension error  412 non-null    float64\n",
      " 20  worst radius             475 non-null    float64\n",
      " 21  worst texture            414 non-null    float64\n",
      " 22  worst perimeter          460 non-null    float64\n",
      " 23  worst area               512 non-null    float64\n",
      " 24  worst smoothness         468 non-null    float64\n",
      " 25  worst compactness        474 non-null    float64\n",
      " 26  worst concavity          507 non-null    float64\n",
      " 27  worst concave points     495 non-null    float64\n",
      " 28  worst symmetry           410 non-null    float64\n",
      " 29  worst fractal dimension  470 non-null    float64\n",
      " 30  target                   569 non-null    int64  \n",
      "dtypes: float64(29), int64(1), object(1)\n",
      "memory usage: 137.9+ KB\n"
     ]
    }
   ],
   "source": [
    "df.info()"
   ]
  },
  {
   "cell_type": "markdown",
   "metadata": {},
   "source": [
    "Datatypes in this Dataset"
   ]
  },
  {
   "cell_type": "code",
   "execution_count": 31,
   "metadata": {
    "vscode": {
     "languageId": "markdown"
    }
   },
   "outputs": [
    {
     "data": {
      "text/plain": [
       "mean radius                float64\n",
       "mean texture               float64\n",
       "mean perimeter             float64\n",
       "mean area                  float64\n",
       "mean smoothness            float64\n",
       "mean compactness           float64\n",
       "mean concavity             float64\n",
       "mean concave points        float64\n",
       "mean symmetry              float64\n",
       "mean fractal dimension     float64\n",
       "radius error               float64\n",
       "texture error              float64\n",
       "perimeter error            float64\n",
       "area error                  object\n",
       "smoothness error           float64\n",
       "compactness error          float64\n",
       "concavity error            float64\n",
       "concave points error       float64\n",
       "symmetry error             float64\n",
       "fractal dimension error    float64\n",
       "worst radius               float64\n",
       "worst texture              float64\n",
       "worst perimeter            float64\n",
       "worst area                 float64\n",
       "worst smoothness           float64\n",
       "worst compactness          float64\n",
       "worst concavity            float64\n",
       "worst concave points       float64\n",
       "worst symmetry             float64\n",
       "worst fractal dimension    float64\n",
       "target                       int64\n",
       "dtype: object"
      ]
     },
     "execution_count": 31,
     "metadata": {},
     "output_type": "execute_result"
    }
   ],
   "source": [
    "df.dtypes"
   ]
  },
  {
   "cell_type": "code",
   "execution_count": 32,
   "metadata": {
    "vscode": {
     "languageId": "markdown"
    }
   },
   "outputs": [
    {
     "data": {
      "text/plain": [
       "0        A\n",
       "1        A\n",
       "2        A\n",
       "3        A\n",
       "4      NaN\n",
       "      ... \n",
       "564      A\n",
       "565      A\n",
       "566      A\n",
       "567      A\n",
       "568      A\n",
       "Name: area error, Length: 569, dtype: object"
      ]
     },
     "execution_count": 32,
     "metadata": {},
     "output_type": "execute_result"
    }
   ],
   "source": [
    "df['area error']"
   ]
  },
  {
   "cell_type": "code",
   "execution_count": 33,
   "metadata": {
    "vscode": {
     "languageId": "markdown"
    }
   },
   "outputs": [
    {
     "data": {
      "text/plain": [
       "<bound method DataFrame.nunique of      mean radius  mean texture  mean perimeter  mean area  mean smoothness  \\\n",
       "0            NaN         10.38          122.80     1001.0          0.11840   \n",
       "1          20.57         17.77          132.90     1326.0              NaN   \n",
       "2          19.69         21.25          130.00     1203.0          0.10960   \n",
       "3          11.42         20.38           77.58      386.1          0.14250   \n",
       "4          20.29         14.34             NaN        NaN              NaN   \n",
       "..           ...           ...             ...        ...              ...   \n",
       "564        21.56         22.39          142.00     1479.0          0.11100   \n",
       "565          NaN         28.25          131.20     1261.0          0.09780   \n",
       "566        16.60         28.08          108.30        NaN          0.08455   \n",
       "567        20.60         29.33          140.10     1265.0          0.11780   \n",
       "568         7.76           NaN           47.92      181.0          0.05263   \n",
       "\n",
       "     mean compactness  mean concavity  mean concave points  mean symmetry  \\\n",
       "0             0.27760          0.3001              0.14710         0.2419   \n",
       "1                 NaN          0.0869              0.07017            NaN   \n",
       "2             0.15990             NaN                  NaN            NaN   \n",
       "3             0.28390          0.2414                  NaN         0.2597   \n",
       "4             0.13280          0.1980                  NaN         0.1809   \n",
       "..                ...             ...                  ...            ...   \n",
       "564               NaN          0.2439              0.13890         0.1726   \n",
       "565           0.10340          0.1440              0.09791         0.1752   \n",
       "566           0.10230             NaN              0.05302         0.1590   \n",
       "567           0.27700          0.3514              0.15200         0.2397   \n",
       "568           0.04362          0.0000              0.00000         0.1587   \n",
       "\n",
       "     mean fractal dimension  ...  worst texture  worst perimeter  worst area  \\\n",
       "0                   0.07871  ...          17.33              NaN      2019.0   \n",
       "1                   0.05667  ...          23.41           158.80      1956.0   \n",
       "2                   0.05999  ...          25.53              NaN      1709.0   \n",
       "3                   0.09744  ...          26.50              NaN       567.7   \n",
       "4                       NaN  ...          16.67           152.20      1575.0   \n",
       "..                      ...  ...            ...              ...         ...   \n",
       "564                 0.05623  ...          26.40           166.10      2027.0   \n",
       "565                     NaN  ...          38.25           155.00      1731.0   \n",
       "566                 0.05648  ...          34.12           126.70      1124.0   \n",
       "567                     NaN  ...            NaN           184.60      1821.0   \n",
       "568                 0.05884  ...          30.37            59.16         NaN   \n",
       "\n",
       "    worst smoothness  worst compactness  worst concavity  \\\n",
       "0            0.16220             0.6656           0.7119   \n",
       "1            0.12380             0.1866           0.2416   \n",
       "2            0.14440             0.4245           0.4504   \n",
       "3            0.20980             0.8663           0.6869   \n",
       "4            0.13740                NaN           0.4000   \n",
       "..               ...                ...              ...   \n",
       "564          0.14100             0.2113           0.4107   \n",
       "565          0.11660             0.1922           0.3215   \n",
       "566          0.11390                NaN           0.3403   \n",
       "567          0.16500             0.8681           0.9387   \n",
       "568          0.08996                NaN           0.0000   \n",
       "\n",
       "     worst concave points  worst symmetry  worst fractal dimension  target  \n",
       "0                  0.2654          0.4601                  0.11890       0  \n",
       "1                  0.1860          0.2750                      NaN       0  \n",
       "2                  0.2430          0.3613                  0.08758       0  \n",
       "3                  0.2575          0.6638                  0.17300       0  \n",
       "4                  0.1625          0.2364                  0.07678       0  \n",
       "..                    ...             ...                      ...     ...  \n",
       "564                0.2216          0.2060                  0.07115       0  \n",
       "565                0.1628          0.2572                      NaN       0  \n",
       "566                0.1418          0.2218                  0.07820       0  \n",
       "567                0.2650          0.4087                  0.12400       0  \n",
       "568                0.0000          0.2871                  0.07039       1  \n",
       "\n",
       "[569 rows x 31 columns]>"
      ]
     },
     "execution_count": 33,
     "metadata": {},
     "output_type": "execute_result"
    }
   ],
   "source": [
    "df.nunique"
   ]
  },
  {
   "cell_type": "code",
   "execution_count": 34,
   "metadata": {
    "vscode": {
     "languageId": "markdown"
    }
   },
   "outputs": [
    {
     "name": "stdout",
     "output_type": "stream",
     "text": [
      "Number of unique values in this column are : 459\n"
     ]
    }
   ],
   "source": [
    "unique = df['mean compactness'].nunique()\n",
    "print(\"Number of unique values in this column are :\", unique)"
   ]
  },
  {
   "cell_type": "code",
   "execution_count": 35,
   "metadata": {
    "vscode": {
     "languageId": "markdown"
    }
   },
   "outputs": [
    {
     "data": {
      "text/plain": [
       "<bound method DataFrame.info of      mean radius  mean texture  mean perimeter  mean area  mean smoothness  \\\n",
       "0            NaN         10.38          122.80     1001.0          0.11840   \n",
       "1          20.57         17.77          132.90     1326.0              NaN   \n",
       "2          19.69         21.25          130.00     1203.0          0.10960   \n",
       "3          11.42         20.38           77.58      386.1          0.14250   \n",
       "4          20.29         14.34             NaN        NaN              NaN   \n",
       "..           ...           ...             ...        ...              ...   \n",
       "564        21.56         22.39          142.00     1479.0          0.11100   \n",
       "565          NaN         28.25          131.20     1261.0          0.09780   \n",
       "566        16.60         28.08          108.30        NaN          0.08455   \n",
       "567        20.60         29.33          140.10     1265.0          0.11780   \n",
       "568         7.76           NaN           47.92      181.0          0.05263   \n",
       "\n",
       "     mean compactness  mean concavity  mean concave points  mean symmetry  \\\n",
       "0             0.27760          0.3001              0.14710         0.2419   \n",
       "1                 NaN          0.0869              0.07017            NaN   \n",
       "2             0.15990             NaN                  NaN            NaN   \n",
       "3             0.28390          0.2414                  NaN         0.2597   \n",
       "4             0.13280          0.1980                  NaN         0.1809   \n",
       "..                ...             ...                  ...            ...   \n",
       "564               NaN          0.2439              0.13890         0.1726   \n",
       "565           0.10340          0.1440              0.09791         0.1752   \n",
       "566           0.10230             NaN              0.05302         0.1590   \n",
       "567           0.27700          0.3514              0.15200         0.2397   \n",
       "568           0.04362          0.0000              0.00000         0.1587   \n",
       "\n",
       "     mean fractal dimension  ...  worst texture  worst perimeter  worst area  \\\n",
       "0                   0.07871  ...          17.33              NaN      2019.0   \n",
       "1                   0.05667  ...          23.41           158.80      1956.0   \n",
       "2                   0.05999  ...          25.53              NaN      1709.0   \n",
       "3                   0.09744  ...          26.50              NaN       567.7   \n",
       "4                       NaN  ...          16.67           152.20      1575.0   \n",
       "..                      ...  ...            ...              ...         ...   \n",
       "564                 0.05623  ...          26.40           166.10      2027.0   \n",
       "565                     NaN  ...          38.25           155.00      1731.0   \n",
       "566                 0.05648  ...          34.12           126.70      1124.0   \n",
       "567                     NaN  ...            NaN           184.60      1821.0   \n",
       "568                 0.05884  ...          30.37            59.16         NaN   \n",
       "\n",
       "    worst smoothness  worst compactness  worst concavity  \\\n",
       "0            0.16220             0.6656           0.7119   \n",
       "1            0.12380             0.1866           0.2416   \n",
       "2            0.14440             0.4245           0.4504   \n",
       "3            0.20980             0.8663           0.6869   \n",
       "4            0.13740                NaN           0.4000   \n",
       "..               ...                ...              ...   \n",
       "564          0.14100             0.2113           0.4107   \n",
       "565          0.11660             0.1922           0.3215   \n",
       "566          0.11390                NaN           0.3403   \n",
       "567          0.16500             0.8681           0.9387   \n",
       "568          0.08996                NaN           0.0000   \n",
       "\n",
       "     worst concave points  worst symmetry  worst fractal dimension  target  \n",
       "0                  0.2654          0.4601                  0.11890       0  \n",
       "1                  0.1860          0.2750                      NaN       0  \n",
       "2                  0.2430          0.3613                  0.08758       0  \n",
       "3                  0.2575          0.6638                  0.17300       0  \n",
       "4                  0.1625          0.2364                  0.07678       0  \n",
       "..                    ...             ...                      ...     ...  \n",
       "564                0.2216          0.2060                  0.07115       0  \n",
       "565                0.1628          0.2572                      NaN       0  \n",
       "566                0.1418          0.2218                  0.07820       0  \n",
       "567                0.2650          0.4087                  0.12400       0  \n",
       "568                0.0000          0.2871                  0.07039       1  \n",
       "\n",
       "[569 rows x 31 columns]>"
      ]
     },
     "execution_count": 35,
     "metadata": {},
     "output_type": "execute_result"
    }
   ],
   "source": [
    "df.info"
   ]
  },
  {
   "cell_type": "code",
   "execution_count": 36,
   "metadata": {
    "vscode": {
     "languageId": "markdown"
    }
   },
   "outputs": [
    {
     "name": "stdout",
     "output_type": "stream",
     "text": [
      "the number of nan in this dataset are : 3318\n"
     ]
    }
   ],
   "source": [
    "null = df.isna().sum().sum()\n",
    "print(\"the number of nan in this dataset are :\" , null)"
   ]
  },
  {
   "cell_type": "code",
   "execution_count": 37,
   "metadata": {
    "vscode": {
     "languageId": "markdown"
    }
   },
   "outputs": [
    {
     "name": "stdout",
     "output_type": "stream",
     "text": [
      "the percentage of nan in every column are as follow :\n",
      "  Axes(0.125,0.11;0.775x0.77)\n"
     ]
    },
    {
     "data": {
      "image/png": "[encoded data removed]",
      "text/plain": [
       "<Figure size 640x480 with 1 Axes>"
      ]
     },
     "metadata": {},
     "output_type": "display_data"
    }
   ],
   "source": [
    "percentage=df.isna().mean()*100\n",
    "percentage_sort= percentage.sort_values().plot(kind='bar', color= '#BADA55') #Chuck norris colour\n",
    "print(\"the percentage of nan in every column are as follow :\\n \" , percentage_sort)"
   ]
  },
  {
   "cell_type": "code",
   "execution_count": 38,
   "metadata": {
    "vscode": {
     "languageId": "markdown"
    }
   },
   "outputs": [
    {
     "name": "stdout",
     "output_type": "stream",
     "text": [
      "the cleaned dataset is: Empty DataFrame\n",
      "Columns: [mean radius, mean texture, mean perimeter, mean area, mean smoothness, mean compactness, mean concavity, mean concave points, mean symmetry, mean fractal dimension, radius error, texture error, perimeter error, area error, smoothness error, compactness error, concavity error, concave points error, symmetry error, fractal dimension error, worst radius, worst texture, worst perimeter, worst area, worst smoothness, worst compactness, worst concavity, worst concave points, worst symmetry, worst fractal dimension, target]\n",
      "Index: []\n",
      "\n",
      "[0 rows x 31 columns]\n"
     ]
    }
   ],
   "source": [
    "clean=df.dropna()\n",
    "print('the cleaned dataset is:',clean)"
   ]
  },
  {
   "cell_type": "code",
   "execution_count": 39,
   "metadata": {
    "vscode": {
     "languageId": "markdown"
    }
   },
   "outputs": [
    {
     "name": "stdout",
     "output_type": "stream",
     "text": [
      "dataset is as follow:                                            mean radius  \\\n",
      "0    <bound method DataFrame.mean of      mean radi...   \n",
      "1                                                20.57   \n",
      "2                                                19.69   \n",
      "3                                                11.42   \n",
      "4                                                20.29   \n",
      "..                                                 ...   \n",
      "564                                              21.56   \n",
      "565  <bound method DataFrame.mean of      mean radi...   \n",
      "566                                               16.6   \n",
      "567                                               20.6   \n",
      "568                                               7.76   \n",
      "\n",
      "                                          mean texture  \\\n",
      "0                                                10.38   \n",
      "1                                                17.77   \n",
      "2                                                21.25   \n",
      "3                                                20.38   \n",
      "4                                                14.34   \n",
      "..                                                 ...   \n",
      "564                                              22.39   \n",
      "565                                              28.25   \n",
      "566                                              28.08   \n",
      "567                                              29.33   \n",
      "568  <bound method DataFrame.mean of      mean radi...   \n",
      "\n",
      "                                        mean perimeter  \\\n",
      "0                                                122.8   \n",
      "1                                                132.9   \n",
      "2                                                130.0   \n",
      "3                                                77.58   \n",
      "4    <bound method DataFrame.mean of      mean radi...   \n",
      "..                                                 ...   \n",
      "564                                              142.0   \n",
      "565                                              131.2   \n",
      "566                                              108.3   \n",
      "567                                              140.1   \n",
      "568                                              47.92   \n",
      "\n",
      "                                             mean area  \\\n",
      "0                                               1001.0   \n",
      "1                                               1326.0   \n",
      "2                                               1203.0   \n",
      "3                                                386.1   \n",
      "4    <bound method DataFrame.mean of      mean radi...   \n",
      "..                                                 ...   \n",
      "564                                             1479.0   \n",
      "565                                             1261.0   \n",
      "566  <bound method DataFrame.mean of      mean radi...   \n",
      "567                                             1265.0   \n",
      "568                                              181.0   \n",
      "\n",
      "                                       mean smoothness  \\\n",
      "0                                               0.1184   \n",
      "1    <bound method DataFrame.mean of      mean radi...   \n",
      "2                                               0.1096   \n",
      "3                                               0.1425   \n",
      "4    <bound method DataFrame.mean of      mean radi...   \n",
      "..                                                 ...   \n",
      "564                                              0.111   \n",
      "565                                             0.0978   \n",
      "566                                            0.08455   \n",
      "567                                             0.1178   \n",
      "568                                            0.05263   \n",
      "\n",
      "                                      mean compactness  \\\n",
      "0                                               0.2776   \n",
      "1    <bound method DataFrame.mean of      mean radi...   \n",
      "2                                               0.1599   \n",
      "3                                               0.2839   \n",
      "4                                               0.1328   \n",
      "..                                                 ...   \n",
      "564  <bound method DataFrame.mean of      mean radi...   \n",
      "565                                             0.1034   \n",
      "566                                             0.1023   \n",
      "567                                              0.277   \n",
      "568                                            0.04362   \n",
      "\n",
      "                                        mean concavity  \\\n",
      "0                                               0.3001   \n",
      "1                                               0.0869   \n",
      "2    <bound method DataFrame.mean of      mean radi...   \n",
      "3                                               0.2414   \n",
      "4                                                0.198   \n",
      "..                                                 ...   \n",
      "564                                             0.2439   \n",
      "565                                              0.144   \n",
      "566  <bound method DataFrame.mean of      mean radi...   \n",
      "567                                             0.3514   \n",
      "568                                                0.0   \n",
      "\n",
      "                                   mean concave points  \\\n",
      "0                                               0.1471   \n",
      "1                                              0.07017   \n",
      "2    <bound method DataFrame.mean of      mean radi...   \n",
      "3    <bound method DataFrame.mean of      mean radi...   \n",
      "4    <bound method DataFrame.mean of      mean radi...   \n",
      "..                                                 ...   \n",
      "564                                             0.1389   \n",
      "565                                            0.09791   \n",
      "566                                            0.05302   \n",
      "567                                              0.152   \n",
      "568                                                0.0   \n",
      "\n",
      "                                         mean symmetry  \\\n",
      "0                                               0.2419   \n",
      "1    <bound method DataFrame.mean of      mean radi...   \n",
      "2    <bound method DataFrame.mean of      mean radi...   \n",
      "3                                               0.2597   \n",
      "4                                               0.1809   \n",
      "..                                                 ...   \n",
      "564                                             0.1726   \n",
      "565                                             0.1752   \n",
      "566                                              0.159   \n",
      "567                                             0.2397   \n",
      "568                                             0.1587   \n",
      "\n",
      "                                mean fractal dimension  ...  \\\n",
      "0                                              0.07871  ...   \n",
      "1                                              0.05667  ...   \n",
      "2                                              0.05999  ...   \n",
      "3                                              0.09744  ...   \n",
      "4    <bound method DataFrame.mean of      mean radi...  ...   \n",
      "..                                                 ...  ...   \n",
      "564                                            0.05623  ...   \n",
      "565  <bound method DataFrame.mean of      mean radi...  ...   \n",
      "566                                            0.05648  ...   \n",
      "567  <bound method DataFrame.mean of      mean radi...  ...   \n",
      "568                                            0.05884  ...   \n",
      "\n",
      "                                         worst texture  \\\n",
      "0                                                17.33   \n",
      "1                                                23.41   \n",
      "2                                                25.53   \n",
      "3                                                 26.5   \n",
      "4                                                16.67   \n",
      "..                                                 ...   \n",
      "564                                               26.4   \n",
      "565                                              38.25   \n",
      "566                                              34.12   \n",
      "567  <bound method DataFrame.mean of      mean radi...   \n",
      "568                                              30.37   \n",
      "\n",
      "                                       worst perimeter  \\\n",
      "0    <bound method DataFrame.mean of      mean radi...   \n",
      "1                                                158.8   \n",
      "2    <bound method DataFrame.mean of      mean radi...   \n",
      "3    <bound method DataFrame.mean of      mean radi...   \n",
      "4                                                152.2   \n",
      "..                                                 ...   \n",
      "564                                              166.1   \n",
      "565                                              155.0   \n",
      "566                                              126.7   \n",
      "567                                              184.6   \n",
      "568                                              59.16   \n",
      "\n",
      "                                            worst area worst smoothness  \\\n",
      "0                                               2019.0           0.1622   \n",
      "1                                               1956.0           0.1238   \n",
      "2                                               1709.0           0.1444   \n",
      "3                                                567.7           0.2098   \n",
      "4                                               1575.0           0.1374   \n",
      "..                                                 ...              ...   \n",
      "564                                             2027.0            0.141   \n",
      "565                                             1731.0           0.1166   \n",
      "566                                             1124.0           0.1139   \n",
      "567                                             1821.0            0.165   \n",
      "568  <bound method DataFrame.mean of      mean radi...          0.08996   \n",
      "\n",
      "                                     worst compactness worst concavity  \\\n",
      "0                                               0.6656          0.7119   \n",
      "1                                               0.1866          0.2416   \n",
      "2                                               0.4245          0.4504   \n",
      "3                                               0.8663          0.6869   \n",
      "4    <bound method DataFrame.mean of      mean radi...             0.4   \n",
      "..                                                 ...             ...   \n",
      "564                                             0.2113          0.4107   \n",
      "565                                             0.1922          0.3215   \n",
      "566  <bound method DataFrame.mean of      mean radi...          0.3403   \n",
      "567                                             0.8681          0.9387   \n",
      "568  <bound method DataFrame.mean of      mean radi...             0.0   \n",
      "\n",
      "    worst concave points worst symmetry  \\\n",
      "0                 0.2654         0.4601   \n",
      "1                  0.186          0.275   \n",
      "2                  0.243         0.3613   \n",
      "3                 0.2575         0.6638   \n",
      "4                 0.1625         0.2364   \n",
      "..                   ...            ...   \n",
      "564               0.2216          0.206   \n",
      "565               0.1628         0.2572   \n",
      "566               0.1418         0.2218   \n",
      "567                0.265         0.4087   \n",
      "568                  0.0         0.2871   \n",
      "\n",
      "                               worst fractal dimension target  \n",
      "0                                               0.1189      0  \n",
      "1    <bound method DataFrame.mean of      mean radi...      0  \n",
      "2                                              0.08758      0  \n",
      "3                                                0.173      0  \n",
      "4                                              0.07678      0  \n",
      "..                                                 ...    ...  \n",
      "564                                            0.07115      0  \n",
      "565  <bound method DataFrame.mean of      mean radi...      0  \n",
      "566                                             0.0782      0  \n",
      "567                                              0.124      0  \n",
      "568                                            0.07039      1  \n",
      "\n",
      "[569 rows x 31 columns]\n"
     ]
    }
   ],
   "source": [
    "fill=df.fillna(df.mean)\n",
    "print('dataset is as follow:',fill)"
   ]
  },
  {
   "cell_type": "code",
   "execution_count": 40,
   "metadata": {
    "vscode": {
     "languageId": "markdown"
    }
   },
   "outputs": [
    {
     "data": {
      "text/html": [
       "<div>\n",
       "<style scoped>\n",
       "    .dataframe tbody tr th:only-of-type {\n",
       "        vertical-align: middle;\n",
       "    }\n",
       "\n",
       "    .dataframe tbody tr th {\n",
       "        vertical-align: top;\n",
       "    }\n",
       "\n",
       "    .dataframe thead th {\n",
       "        text-align: right;\n",
       "    }\n",
       "</style>\n",
       "<table border=\"1\" class=\"dataframe\">\n",
       "  <thead>\n",
       "    <tr style=\"text-align: right;\">\n",
       "      <th></th>\n",
       "      <th>mean radius</th>\n",
       "      <th>mean texture</th>\n",
       "      <th>mean perimeter</th>\n",
       "      <th>mean area</th>\n",
       "      <th>mean smoothness</th>\n",
       "      <th>mean compactness</th>\n",
       "      <th>mean concavity</th>\n",
       "      <th>mean concave points</th>\n",
       "      <th>mean symmetry</th>\n",
       "      <th>mean fractal dimension</th>\n",
       "      <th>...</th>\n",
       "      <th>worst texture</th>\n",
       "      <th>worst perimeter</th>\n",
       "      <th>worst area</th>\n",
       "      <th>worst smoothness</th>\n",
       "      <th>worst compactness</th>\n",
       "      <th>worst concavity</th>\n",
       "      <th>worst concave points</th>\n",
       "      <th>worst symmetry</th>\n",
       "      <th>worst fractal dimension</th>\n",
       "      <th>target</th>\n",
       "    </tr>\n",
       "  </thead>\n",
       "  <tbody>\n",
       "    <tr>\n",
       "      <th>count</th>\n",
       "      <td>482.000000</td>\n",
       "      <td>492.000000</td>\n",
       "      <td>513.000000</td>\n",
       "      <td>403.000000</td>\n",
       "      <td>384.000000</td>\n",
       "      <td>480.000000</td>\n",
       "      <td>439.000000</td>\n",
       "      <td>382.000000</td>\n",
       "      <td>471.000000</td>\n",
       "      <td>504.000000</td>\n",
       "      <td>...</td>\n",
       "      <td>414.000000</td>\n",
       "      <td>460.000000</td>\n",
       "      <td>512.000000</td>\n",
       "      <td>468.000000</td>\n",
       "      <td>474.000000</td>\n",
       "      <td>507.000000</td>\n",
       "      <td>495.000000</td>\n",
       "      <td>410.000000</td>\n",
       "      <td>470.000000</td>\n",
       "      <td>569.000000</td>\n",
       "    </tr>\n",
       "    <tr>\n",
       "      <th>mean</th>\n",
       "      <td>14.059548</td>\n",
       "      <td>19.311829</td>\n",
       "      <td>92.039025</td>\n",
       "      <td>661.522581</td>\n",
       "      <td>0.097156</td>\n",
       "      <td>0.104531</td>\n",
       "      <td>0.094063</td>\n",
       "      <td>0.049115</td>\n",
       "      <td>0.181405</td>\n",
       "      <td>0.062626</td>\n",
       "      <td>...</td>\n",
       "      <td>25.599058</td>\n",
       "      <td>107.322848</td>\n",
       "      <td>893.873828</td>\n",
       "      <td>0.133065</td>\n",
       "      <td>0.256748</td>\n",
       "      <td>0.267936</td>\n",
       "      <td>0.116579</td>\n",
       "      <td>0.291797</td>\n",
       "      <td>0.084363</td>\n",
       "      <td>0.627417</td>\n",
       "    </tr>\n",
       "    <tr>\n",
       "      <th>std</th>\n",
       "      <td>3.501791</td>\n",
       "      <td>4.347769</td>\n",
       "      <td>24.028669</td>\n",
       "      <td>356.669534</td>\n",
       "      <td>0.014502</td>\n",
       "      <td>0.053335</td>\n",
       "      <td>0.083301</td>\n",
       "      <td>0.038449</td>\n",
       "      <td>0.027633</td>\n",
       "      <td>0.007102</td>\n",
       "      <td>...</td>\n",
       "      <td>6.186596</td>\n",
       "      <td>33.967766</td>\n",
       "      <td>587.297571</td>\n",
       "      <td>0.023000</td>\n",
       "      <td>0.160373</td>\n",
       "      <td>0.209779</td>\n",
       "      <td>0.066426</td>\n",
       "      <td>0.066327</td>\n",
       "      <td>0.018683</td>\n",
       "      <td>0.483918</td>\n",
       "    </tr>\n",
       "    <tr>\n",
       "      <th>min</th>\n",
       "      <td>6.981000</td>\n",
       "      <td>9.710000</td>\n",
       "      <td>43.790000</td>\n",
       "      <td>143.500000</td>\n",
       "      <td>0.052630</td>\n",
       "      <td>0.019380</td>\n",
       "      <td>0.000000</td>\n",
       "      <td>0.000000</td>\n",
       "      <td>0.106000</td>\n",
       "      <td>0.049960</td>\n",
       "      <td>...</td>\n",
       "      <td>12.490000</td>\n",
       "      <td>54.490000</td>\n",
       "      <td>185.200000</td>\n",
       "      <td>0.071170</td>\n",
       "      <td>0.034320</td>\n",
       "      <td>0.000000</td>\n",
       "      <td>0.000000</td>\n",
       "      <td>0.156600</td>\n",
       "      <td>0.055040</td>\n",
       "      <td>0.000000</td>\n",
       "    </tr>\n",
       "    <tr>\n",
       "      <th>25%</th>\n",
       "      <td>11.672500</td>\n",
       "      <td>16.170000</td>\n",
       "      <td>75.270000</td>\n",
       "      <td>428.100000</td>\n",
       "      <td>0.086688</td>\n",
       "      <td>0.064815</td>\n",
       "      <td>0.030410</td>\n",
       "      <td>0.020682</td>\n",
       "      <td>0.161950</td>\n",
       "      <td>0.057530</td>\n",
       "      <td>...</td>\n",
       "      <td>20.842500</td>\n",
       "      <td>84.147500</td>\n",
       "      <td>510.275000</td>\n",
       "      <td>0.117175</td>\n",
       "      <td>0.144500</td>\n",
       "      <td>0.106450</td>\n",
       "      <td>0.065280</td>\n",
       "      <td>0.248725</td>\n",
       "      <td>0.071857</td>\n",
       "      <td>0.000000</td>\n",
       "    </tr>\n",
       "    <tr>\n",
       "      <th>50%</th>\n",
       "      <td>13.280000</td>\n",
       "      <td>18.860000</td>\n",
       "      <td>86.340000</td>\n",
       "      <td>556.700000</td>\n",
       "      <td>0.096565</td>\n",
       "      <td>0.093125</td>\n",
       "      <td>0.068240</td>\n",
       "      <td>0.033770</td>\n",
       "      <td>0.179100</td>\n",
       "      <td>0.061300</td>\n",
       "      <td>...</td>\n",
       "      <td>25.225000</td>\n",
       "      <td>97.455000</td>\n",
       "      <td>686.550000</td>\n",
       "      <td>0.131450</td>\n",
       "      <td>0.211850</td>\n",
       "      <td>0.212300</td>\n",
       "      <td>0.101500</td>\n",
       "      <td>0.282050</td>\n",
       "      <td>0.079870</td>\n",
       "      <td>1.000000</td>\n",
       "    </tr>\n",
       "    <tr>\n",
       "      <th>75%</th>\n",
       "      <td>15.745000</td>\n",
       "      <td>21.802500</td>\n",
       "      <td>104.700000</td>\n",
       "      <td>796.000000</td>\n",
       "      <td>0.106825</td>\n",
       "      <td>0.130325</td>\n",
       "      <td>0.135100</td>\n",
       "      <td>0.074122</td>\n",
       "      <td>0.196600</td>\n",
       "      <td>0.066003</td>\n",
       "      <td>...</td>\n",
       "      <td>29.485000</td>\n",
       "      <td>126.950000</td>\n",
       "      <td>1141.000000</td>\n",
       "      <td>0.147125</td>\n",
       "      <td>0.343800</td>\n",
       "      <td>0.384100</td>\n",
       "      <td>0.165650</td>\n",
       "      <td>0.319750</td>\n",
       "      <td>0.092172</td>\n",
       "      <td>1.000000</td>\n",
       "    </tr>\n",
       "    <tr>\n",
       "      <th>max</th>\n",
       "      <td>28.110000</td>\n",
       "      <td>39.280000</td>\n",
       "      <td>188.500000</td>\n",
       "      <td>2501.000000</td>\n",
       "      <td>0.163400</td>\n",
       "      <td>0.345400</td>\n",
       "      <td>0.426800</td>\n",
       "      <td>0.201200</td>\n",
       "      <td>0.290600</td>\n",
       "      <td>0.097440</td>\n",
       "      <td>...</td>\n",
       "      <td>49.540000</td>\n",
       "      <td>251.200000</td>\n",
       "      <td>4254.000000</td>\n",
       "      <td>0.222600</td>\n",
       "      <td>1.058000</td>\n",
       "      <td>1.252000</td>\n",
       "      <td>0.291000</td>\n",
       "      <td>0.663800</td>\n",
       "      <td>0.207500</td>\n",
       "      <td>1.000000</td>\n",
       "    </tr>\n",
       "  </tbody>\n",
       "</table>\n",
       "<p>8 rows × 30 columns</p>\n",
       "</div>"
      ],
      "text/plain": [
       "       mean radius  mean texture  mean perimeter    mean area  \\\n",
       "count   482.000000    492.000000      513.000000   403.000000   \n",
       "mean     14.059548     19.311829       92.039025   661.522581   \n",
       "std       3.501791      4.347769       24.028669   356.669534   \n",
       "min       6.981000      9.710000       43.790000   143.500000   \n",
       "25%      11.672500     16.170000       75.270000   428.100000   \n",
       "50%      13.280000     18.860000       86.340000   556.700000   \n",
       "75%      15.745000     21.802500      104.700000   796.000000   \n",
       "max      28.110000     39.280000      188.500000  2501.000000   \n",
       "\n",
       "       mean smoothness  mean compactness  mean concavity  mean concave points  \\\n",
       "count       384.000000        480.000000      439.000000           382.000000   \n",
       "mean          0.097156          0.104531        0.094063             0.049115   \n",
       "std           0.014502          0.053335        0.083301             0.038449   \n",
       "min           0.052630          0.019380        0.000000             0.000000   \n",
       "25%           0.086688          0.064815        0.030410             0.020682   \n",
       "50%           0.096565          0.093125        0.068240             0.033770   \n",
       "75%           0.106825          0.130325        0.135100             0.074122   \n",
       "max           0.163400          0.345400        0.426800             0.201200   \n",
       "\n",
       "       mean symmetry  mean fractal dimension  ...  worst texture  \\\n",
       "count     471.000000              504.000000  ...     414.000000   \n",
       "mean        0.181405                0.062626  ...      25.599058   \n",
       "std         0.027633                0.007102  ...       6.186596   \n",
       "min         0.106000                0.049960  ...      12.490000   \n",
       "25%         0.161950                0.057530  ...      20.842500   \n",
       "50%         0.179100                0.061300  ...      25.225000   \n",
       "75%         0.196600                0.066003  ...      29.485000   \n",
       "max         0.290600                0.097440  ...      49.540000   \n",
       "\n",
       "       worst perimeter   worst area  worst smoothness  worst compactness  \\\n",
       "count       460.000000   512.000000        468.000000         474.000000   \n",
       "mean        107.322848   893.873828          0.133065           0.256748   \n",
       "std          33.967766   587.297571          0.023000           0.160373   \n",
       "min          54.490000   185.200000          0.071170           0.034320   \n",
       "25%          84.147500   510.275000          0.117175           0.144500   \n",
       "50%          97.455000   686.550000          0.131450           0.211850   \n",
       "75%         126.950000  1141.000000          0.147125           0.343800   \n",
       "max         251.200000  4254.000000          0.222600           1.058000   \n",
       "\n",
       "       worst concavity  worst concave points  worst symmetry  \\\n",
       "count       507.000000            495.000000      410.000000   \n",
       "mean          0.267936              0.116579        0.291797   \n",
       "std           0.209779              0.066426        0.066327   \n",
       "min           0.000000              0.000000        0.156600   \n",
       "25%           0.106450              0.065280        0.248725   \n",
       "50%           0.212300              0.101500        0.282050   \n",
       "75%           0.384100              0.165650        0.319750   \n",
       "max           1.252000              0.291000        0.663800   \n",
       "\n",
       "       worst fractal dimension      target  \n",
       "count               470.000000  569.000000  \n",
       "mean                  0.084363    0.627417  \n",
       "std                   0.018683    0.483918  \n",
       "min                   0.055040    0.000000  \n",
       "25%                   0.071857    0.000000  \n",
       "50%                   0.079870    1.000000  \n",
       "75%                   0.092172    1.000000  \n",
       "max                   0.207500    1.000000  \n",
       "\n",
       "[8 rows x 30 columns]"
      ]
     },
     "execution_count": 40,
     "metadata": {},
     "output_type": "execute_result"
    }
   ],
   "source": [
    "df.describe()"
   ]
  }
 ],
 "metadata": {
  "kernelspec": {
   "display_name": "Python 3",
   "language": "python",
   "name": "python3"
  },
  "language_info": {
   "codemirror_mode": {
    "name": "ipython",
    "version": 3
   },
   "file_extension": ".py",
   "mimetype": "text/x-python",
   "name": "python",
   "nbconvert_exporter": "python",
   "pygments_lexer": "ipython3",
   "version": "3.12.5"
  }
 },
 "nbformat": 4,
 "nbformat_minor": 2
}
