{
 "cells": [
  {
   "cell_type": "code",
   "execution_count": 1,
   "id": "2df2d6b5-1414-421e-a136-91b6d18cf304",
   "metadata": {},
   "outputs": [],
   "source": [
    "# Importing necessary libraries\n",
    "import pandas as pd\n",
    "from sklearn.preprocessing import OneHotEncoder\n",
    "\n",
    "# Creating a dictionary with sample data\n",
    "d = {\n",
    "    'sales': [100000, 222000, 1000000, 522000, 111111, 222222, 1111111, 20000, 75000, 90000, 1000000, 10000],\n",
    "    'city': ['Tampa', 'Tampa', 'Orlando', 'Jacksonville', 'Miami', 'Jacksonville', 'Miami', 'Miami', 'Orlando', 'Orlando', 'Orlando', 'Orlando'],\n",
    "    'size': ['Small', 'Medium', 'Large', 'Large', 'Small', 'Medium', 'Large', 'Small', 'Medium', 'Medium', 'Medium', 'Small']\n",
    "}\n",
    "\n",
    "# Converting the dictionary into a DataFrame\n",
    "df = pd.DataFrame(d)\n",
    "\n",
    "\n",
    "# Displaying the first 5 rows of the DataFrame\n",
    "df.head(5)\n",
    "\n",
    "# Creating and configuring the OneHotEncoder\n",
    "\n",
    "\n",
    "# Fitting and transforming the 'size' column in the DataFrame\n",
    "\n",
    "# Concatenating the original DataFrame with the one-hot encoded columns and dropping the original 'size' column\n",
    "\n",
    "\n",
    "# Displaying the final DataFrame\n"
   ]
  }
 ],
 "metadata": {
  "kernelspec": {
   "display_name": "Python 3",
   "language": "python",
   "name": "python3"
  },
  "language_info": {
   "codemirror_mode": {
    "name": "ipython",
    "version": 3
   },
   "file_extension": ".py",
   "mimetype": "text/x-python",
   "name": "python",
   "nbconvert_exporter": "python",
   "pygments_lexer": "ipython3",
   "version": "3.12.5"
  }
 },
 "nbformat": 4,
 "nbformat_minor": 5
}
