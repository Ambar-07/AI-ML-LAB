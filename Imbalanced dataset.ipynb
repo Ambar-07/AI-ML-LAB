{
 "cells": [
  {
   "cell_type": "code",
   "execution_count": null,
   "metadata": {},
   "outputs": [],
   "source": [
    "from sklearn.datasets import make_classification\n",
    "\n",
    "X, y = make_classification(\n",
    "    n_samples=1000,   # Number of samples\n",
    "    n_features=20,    # Number of features\n",
    "    n_classes=2,      # Number of classes (binary )\n",
    "    weights=[0.9, 0.1], # Class imbalance (90% Class 0, 10% Class 1)\n",
    "    random_state=42   # All synthetic samples are set in the same way\n",
    ")\n"
   ]
  },
  {
   "cell_type": "markdown",
   "metadata": {},
   "source": [
    "Undersampling\n"
   ]
  },
  {
   "cell_type": "code",
   "execution_count": 7,
   "metadata": {},
   "outputs": [
    {
     "name": "stdout",
     "output_type": "stream",
     "text": [
      "Resampled feature matrix shape: (206, 20)\n",
      "Resampled target vector shape: (206,)\n"
     ]
    }
   ],
   "source": [
    "from imblearn.under_sampling import RandomUnderSampler\n",
    "\n",
    "# Initialize the RandomUnderSampler\n",
    "rus = RandomUnderSampler(sampling_strategy=1, random_state=42)\n",
    "\n",
    "# Apply undersampling to balance the dataset\n",
    "X_resampled, y_resampled = rus.fit_resample(X, y)\n",
    "\n",
    "# Print the resampled data shapes to verify the balancing\n",
    "print(f\"Resampled feature matrix shape: {X_resampled.shape}\")\n",
    "print(f\"Resampled target vector shape: {y_resampled.shape}\")"
   ]
  },
  {
   "cell_type": "markdown",
   "metadata": {},
   "source": [
    "Oversampling "
   ]
  },
  {
   "cell_type": "code",
   "execution_count": 8,
   "metadata": {},
   "outputs": [
    {
     "name": "stdout",
     "output_type": "stream",
     "text": [
      "Resampled feature matrix shape: (1794, 20)\n",
      "Resampled target vector shape: (1794,)\n"
     ]
    }
   ],
   "source": [
    "from imblearn.over_sampling import RandomOverSampler\n",
    "\n",
    "# Initialize the RandomOverSampler\n",
    "ros = RandomOverSampler(sampling_strategy=1, random_state=42)\n",
    "\n",
    "# Apply oversampling to balance the dataset\n",
    "X_resampled, y_resampled = ros.fit_resample(X, y)\n",
    "\n",
    "# Print the resampled data shapes to verify the balancing\n",
    "print(f\"Resampled feature matrix shape: {X_resampled.shape}\")\n",
    "print(f\"Resampled target vector shape: {y_resampled.shape}\")"
   ]
  },
  {
   "cell_type": "markdown",
   "metadata": {},
   "source": [
    "SMOTE"
   ]
  },
  {
   "cell_type": "code",
   "execution_count": 9,
   "metadata": {},
   "outputs": [
    {
     "name": "stdout",
     "output_type": "stream",
     "text": [
      "Resampled feature matrix shape: (1794, 20)\n",
      "Resampled target vector shape: (1794,)\n"
     ]
    }
   ],
   "source": [
    "from imblearn.over_sampling import SMOTE\n",
    "\n",
    "# Initialize the SMOTE over-sampler\n",
    "smote = SMOTE(random_state=42)\n",
    "\n",
    "# Apply SMOTE to balance the dataset\n",
    "X_resampled, y_resampled = smote.fit_resample(X, y)\n",
    "\n",
    "# Print the resampled data shapes to verify the balancing\n",
    "print(f\"Resampled feature matrix shape: {X_resampled.shape}\")\n",
    "print(f\"Resampled target vector shape: {y_resampled.shape}\")"
   ]
  },
  {
   "cell_type": "markdown",
   "metadata": {},
   "source": [
    "Visualization"
   ]
  },
  {
   "cell_type": "code",
   "execution_count": 10,
   "metadata": {},
   "outputs": [
    {
     "data": {
      "image/png": "[encoded data removed]",
      "text/plain": [
       "<Figure size 600x600 with 1 Axes>"
      ]
     },
     "metadata": {},
     "output_type": "display_data"
    }
   ],
   "source": [
    "import matplotlib.pyplot as plt\n",
    "import pandas as pd\n",
    "\n",
    "# Plot the distribution of the resampled target variable\n",
    "plt.figure(figsize=(6, 6))\n",
    "\n",
    "# Use pandas Series to count the occurrences of each class and plot a pie chart\n",
    "pd.Series(y_resampled).value_counts().plot.pie(autopct='%1.1f%%')\n",
    "\n",
    "# Add title to the plot\n",
    "plt.title('Balanced Class Distribution')\n",
    "\n",
    "# Show the plot\n",
    "plt.show()"
   ]
  }
 ],
 "metadata": {
  "kernelspec": {
   "display_name": "Python 3",
   "language": "python",
   "name": "python3"
  },
  "language_info": {
   "codemirror_mode": {
    "name": "ipython",
    "version": 3
   },
   "file_extension": ".py",
   "mimetype": "text/x-python",
   "name": "python",
   "nbconvert_exporter": "python",
   "pygments_lexer": "ipython3",
   "version": "3.12.5"
  }
 },
 "nbformat": 4,
 "nbformat_minor": 2
}
